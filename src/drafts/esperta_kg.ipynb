{
 "cells": [
  {
   "cell_type": "markdown",
   "metadata": {},
   "source": [
    "## Vinculando o Knowledge Graph com o LLM para permitir busca semântica"
   ]
  },
  {
   "cell_type": "markdown",
   "metadata": {},
   "source": [
    "Depois de inserir os dados no banco, criar seus embeddings e seu vetor de índices, agora podemos fazer experimentos para permitir a implementação da busca semântica."
   ]
  },
  {
   "cell_type": "code",
   "execution_count": 1,
   "metadata": {},
   "outputs": [],
   "source": [
    "from neo4j import GraphDatabase\n",
    "import os\n",
    "from dotenv import load_dotenv"
   ]
  },
  {
   "cell_type": "code",
   "execution_count": 2,
   "metadata": {},
   "outputs": [],
   "source": [
    "from langchain_huggingface import ChatHuggingFace, HuggingFaceEndpoint, HuggingFaceEmbeddings\n",
    "from langchain_neo4j import GraphCypherQAChain, Neo4jGraph, Neo4jVector\n",
    "from langchain.prompts import PromptTemplate\n",
    "from langchain.chains import RetrievalQA"
   ]
  },
  {
   "cell_type": "code",
   "execution_count": 3,
   "metadata": {},
   "outputs": [
    {
     "data": {
      "application/vnd.jupyter.widget-view+json": {
       "model_id": "9fda8c5584724a638d6cad0b24a30f77",
       "version_major": 2,
       "version_minor": 0
      },
      "text/plain": [
       "VBox(children=(HTML(value='<center> <img\\nsrc=https://huggingface.co/front/assets/huggingface_logo-noborder.sv…"
      ]
     },
     "metadata": {},
     "output_type": "display_data"
    }
   ],
   "source": [
    "from huggingface_hub import login\n",
    "login()"
   ]
  },
  {
   "cell_type": "code",
   "execution_count": 4,
   "metadata": {},
   "outputs": [],
   "source": [
    "load_dotenv()\n",
    "model_name = os.getenv(\"MODEL_NAME\")\n",
    "embedding_provider = HuggingFaceEmbeddings(\n",
    "    model_name=model_name\n",
    ")"
   ]
  },
  {
   "cell_type": "code",
   "execution_count": 5,
   "metadata": {},
   "outputs": [],
   "source": [
    "graph = Neo4jGraph(\n",
    "    url=os.getenv('NEO4J_CONNECTION'),\n",
    "    username=os.getenv('NEO4J_USERNAME'),\n",
    "    password=os.getenv('NEO4J_PASSWORD')\n",
    ")"
   ]
  },
  {
   "cell_type": "markdown",
   "metadata": {},
   "source": [
    "### Testando a busca de artigos por similarity search"
   ]
  },
  {
   "cell_type": "code",
   "execution_count": 6,
   "metadata": {},
   "outputs": [
    {
     "name": "stdout",
     "output_type": "stream",
     "text": [
      "Guilherme de Almeida Xavier - Jogos Eletrônicos na Teoria dos Eixos\n",
      "Bruno Feijo - Introdução à Ciência da Computação com Jogos\n",
      "Bruno Feijo - Visualização, Simulação e Games\n",
      "Guilherme de Almeida Xavier - O simbólico interativo no jogo eletrônico\n"
     ]
    }
   ],
   "source": [
    "prod_titulo_vector = Neo4jVector.from_existing_index(\n",
    "    embedding_provider,\n",
    "    graph=graph,\n",
    "    index_name = 'producoes',\n",
    "    embedding_node_property='embedding',\n",
    "    text_node_property='titulo',\n",
    ")\n",
    "\n",
    "result = prod_titulo_vector.similarity_search(\"artificial jogos\")\n",
    "\n",
    "for doc in result:\n",
    "    print(doc.metadata[\"autor\"], \"-\", doc.page_content)"
   ]
  },
  {
   "cell_type": "code",
   "execution_count": 7,
   "metadata": {},
   "outputs": [],
   "source": [
    "retriever = prod_titulo_vector.as_retriever(search_type=\"similarity\", search_kwargs={\"k\": 3})"
   ]
  },
  {
   "cell_type": "markdown",
   "metadata": {},
   "source": [
    "Vemos que por similarity search já conseguimos alguns resultados bem interessantes de artigos envolvendo os assuntos, mas acho que precisariamos de mais um refinamento para funcionar melhor."
   ]
  },
  {
   "cell_type": "markdown",
   "metadata": {},
   "source": [
    "## Testando busca semântica com a similarity_search"
   ]
  },
  {
   "cell_type": "code",
   "execution_count": 8,
   "metadata": {},
   "outputs": [
    {
     "name": "stdout",
     "output_type": "stream",
     "text": [
      "Marcos Vianna Villas - Programação: conceitos, técnicas e linguagens\n",
      "Roberto Ierusalimschy - A Implementação da Linguagem de Programação SLOTH\n",
      "Edward Hermann Haeusler - Paradigmas de linguagens de programação: uma abordagem geométrica\n",
      "Renato Fontoura de Gusmão Cerqueira - Utilizando Anotações em Linguagens Orientadas a Objetos para Suporte à Programação Orientada a Componentes\n"
     ]
    }
   ],
   "source": [
    "import spacy\n",
    "\n",
    "# Carregue o modelo em português\n",
    "nlp = spacy.load(\"pt_core_news_sm\")\n",
    "\n",
    "def busca_artigos(query: str):\n",
    "    doc = nlp(query.lower())\n",
    "    filtered_tokens = [token.text for token in doc if not token.is_stop and token.is_alpha]\n",
    "    important_tokens = ' '.join([str(x) for x in filtered_tokens])\n",
    "\n",
    "    result = prod_titulo_vector.similarity_search(important_tokens)\n",
    "\n",
    "    for doc in result:\n",
    "        print(doc.metadata[\"autor\"], \"-\", doc.page_content)\n",
    "\n",
    "busca_artigos(\"Artigos sobre linguagens de programação\")"
   ]
  },
  {
   "cell_type": "markdown",
   "metadata": {},
   "source": [
    "### Testando importação com retrieval chains"
   ]
  },
  {
   "cell_type": "code",
   "execution_count": 9,
   "metadata": {},
   "outputs": [],
   "source": [
    "llm = HuggingFaceEndpoint(\n",
    "    repo_id=\"bigscience/bloom\",\n",
    "    task=\"text-generation\",\n",
    ")\n",
    "\n",
    "chat = ChatHuggingFace(llm=llm, verbose=True)"
   ]
  },
  {
   "cell_type": "code",
   "execution_count": 10,
   "metadata": {},
   "outputs": [
    {
     "name": "stderr",
     "output_type": "stream",
     "text": [
      "C:\\dev\\IC-BioBD\\ic-env\\lib\\site-packages\\huggingface_hub\\utils\\_deprecation.py:131: FutureWarning: 'post' (from 'huggingface_hub.inference._client') is deprecated and will be removed from version '0.31.0'. Making direct POST requests to the inference server is not supported anymore. Please use task methods instead (e.g. `InferenceClient.chat_completion`). If your use case is not supported, please open an issue in https://github.com/huggingface/huggingface_hub.\n",
      "  warnings.warn(warning_message, FutureWarning)\n"
     ]
    },
    {
     "name": "stdout",
     "output_type": "stream",
     "text": [
      "{'query': 'Qual o artigo mais recente sobre inteligência artificial?', 'result': ' O artigo mais recente sobre inteligência artificial no contexto fornecido é \"A Inovação com Dados: a Experiência do Usuário com Sistemas Baseados em Inteligência Artificial\".', 'source_documents': [Document(metadata={'lattes_criador': 5462014719461367, 'autor': 'Maria Manuela Rupp Quaresma', 'tipo': 'Article', 'ano': 2021}, page_content='A Inovação com Dados: a Experiência do Usuário com Sistemas Baseados em Inteligência Artificial'), Document(metadata={'lattes_criador': 1728746187630338, 'autor': 'Bernardo Pereira Nunes', 'tipo': 'Article', 'ano': 2023}, page_content='AAIN Generative Artificial Intelligence Guidelines'), Document(metadata={'lattes_criador': 5462014719461367, 'autor': 'Maria Manuela Rupp Quaresma', 'tipo': 'Article', 'ano': 2022}, page_content='Interação com redes sociais, bem-estar e a terceira onda de evolução da Inteligência Artificial')]}\n"
     ]
    }
   ],
   "source": [
    "titulo_retriever = RetrievalQA.from_llm(\n",
    "    llm=llm,\n",
    "    retriever=retriever,\n",
    "    return_source_documents=True\n",
    ")\n",
    "\n",
    "response = titulo_retriever.invoke(\n",
    "    {\"query\": \"Qual o artigo mais recente sobre inteligência artificial?\"}\n",
    ")\n",
    "\n",
    "print(response)"
   ]
  },
  {
   "cell_type": "code",
   "execution_count": 23,
   "metadata": {},
   "outputs": [],
   "source": [
    "CYPHER_GENERATION_PROMPT = \"\"\"Tarefa: Gere uma query em Cypher para consultar um banco de dados de grafos. Não retorne nada além da query Cypher.\n",
    "                Schema: {schema}\n",
    "                Question: {question}\n",
    "\n",
    "                Instruções:\n",
    "                * Assegure-se de que a query Cypher seja sintaticamente correta e use somente comandos válidos em Cypher.\n",
    "                * Seja o mais conciso possível nas respostas, retorne somente a resposta da pergunta.\n",
    "                * Retorne sempre a query em Cypher.\n",
    "                * Utilize apenas operadores válidos.\n",
    "                ---\n",
    "                Cypher Query:\"\"\"\n",
    "\n",
    "\n",
    "cypher_generation_prompt = PromptTemplate(template=CYPHER_GENERATION_PROMPT, input_variables=[\"schema\", \"question\"])"
   ]
  },
  {
   "cell_type": "code",
   "execution_count": 24,
   "metadata": {},
   "outputs": [
    {
     "name": "stderr",
     "output_type": "stream",
     "text": [
      "C:\\dev\\IC-BioBD\\ic-env\\lib\\site-packages\\huggingface_hub\\utils\\_deprecation.py:131: FutureWarning: 'post' (from 'huggingface_hub.inference._client') is deprecated and will be removed from version '0.31.0'. Making direct POST requests to the inference server is not supported anymore. Please use task methods instead (e.g. `InferenceClient.chat_completion`). If your use case is not supported, please open an issue in https://github.com/huggingface/huggingface_hub.\n",
      "  warnings.warn(warning_message, FutureWarning)\n"
     ]
    },
    {
     "name": "stdout",
     "output_type": "stream",
     "text": [
      "{'query': 'Artigos sobre inteligencia artificiial', 'result': ''}\n"
     ]
    },
    {
     "name": "stderr",
     "output_type": "stream",
     "text": [
      "C:\\dev\\IC-BioBD\\ic-env\\lib\\site-packages\\huggingface_hub\\utils\\_deprecation.py:131: FutureWarning: 'post' (from 'huggingface_hub.inference._client') is deprecated and will be removed from version '0.31.0'. Making direct POST requests to the inference server is not supported anymore. Please use task methods instead (e.g. `InferenceClient.chat_completion`). If your use case is not supported, please open an issue in https://github.com/huggingface/huggingface_hub.\n",
      "  warnings.warn(warning_message, FutureWarning)\n"
     ]
    }
   ],
   "source": [
    "cypher_chain = GraphCypherQAChain.from_llm(\n",
    "    llm,\n",
    "    graph=graph,\n",
    "    cypher_prompt=cypher_generation_prompt,\n",
    "    verbose=False,\n",
    "    allow_dangerous_requests=True\n",
    ")\n",
    "\n",
    "result = cypher_chain.invoke({\"query\": \"Artigos sobre inteligencia artificiial\"})\n",
    "print(result)"
   ]
  }
 ],
 "metadata": {
  "kernelspec": {
   "display_name": "Python 3 (ipykernel)",
   "language": "python",
   "name": "python3"
  }
 },
 "nbformat": 4,
 "nbformat_minor": 4
}
